{
 "cells": [
  {
   "cell_type": "code",
   "execution_count": 558,
   "id": "daily-lighting",
   "metadata": {},
   "outputs": [],
   "source": [
    "import pandas as pd\n",
    "import numpy as np\n",
    "import gensim\n",
    "from gensim.models import word2vec\n",
    "import unicodedata"
   ]
  },
  {
   "cell_type": "code",
   "execution_count": 559,
   "id": "realistic-wedding",
   "metadata": {},
   "outputs": [],
   "source": [
    "pd.set_option('display.max_colwidth', None)"
   ]
  },
  {
   "cell_type": "code",
   "execution_count": 632,
   "id": "hispanic-washington",
   "metadata": {},
   "outputs": [
    {
     "name": "stdout",
     "output_type": "stream",
     "text": [
      "nlp-getting-started.zip: Skipping, found more recently modified local copy (use --force to force download)\n",
      "Archive:  nlp-getting-started.zip\n",
      "replace ../data/sample_submission.csv? [y]es, [n]o, [A]ll, [N]one, [r]ename: ^C\n"
     ]
    }
   ],
   "source": [
    "!kaggle competitions download -c nlp-getting-started\n",
    "!unzip nlp-getting-started.zip -d ../data/"
   ]
  },
  {
   "cell_type": "code",
   "execution_count": 560,
   "id": "everyday-insulation",
   "metadata": {},
   "outputs": [],
   "source": [
    "train_df = pd.read_csv(\"../data/train.csv\")\n",
    "test_df = pd.read_csv(\"../data/test.csv\")\n",
    "sample_submission = pd.read_csv(\"../data/sample_submission.csv\")"
   ]
  },
  {
   "cell_type": "markdown",
   "id": "alpha-asset",
   "metadata": {},
   "source": [
    "## First look at the datasets"
   ]
  },
  {
   "cell_type": "code",
   "execution_count": 561,
   "id": "dietary-spencer",
   "metadata": {},
   "outputs": [
    {
     "data": {
      "text/html": [
       "<div>\n",
       "<style scoped>\n",
       "    .dataframe tbody tr th:only-of-type {\n",
       "        vertical-align: middle;\n",
       "    }\n",
       "\n",
       "    .dataframe tbody tr th {\n",
       "        vertical-align: top;\n",
       "    }\n",
       "\n",
       "    .dataframe thead th {\n",
       "        text-align: right;\n",
       "    }\n",
       "</style>\n",
       "<table border=\"1\" class=\"dataframe\">\n",
       "  <thead>\n",
       "    <tr style=\"text-align: right;\">\n",
       "      <th></th>\n",
       "      <th>id</th>\n",
       "      <th>keyword</th>\n",
       "      <th>location</th>\n",
       "      <th>text</th>\n",
       "      <th>target</th>\n",
       "    </tr>\n",
       "  </thead>\n",
       "  <tbody>\n",
       "    <tr>\n",
       "      <th>0</th>\n",
       "      <td>1</td>\n",
       "      <td>NaN</td>\n",
       "      <td>NaN</td>\n",
       "      <td>Our Deeds are the Reason of this #earthquake May ALLAH Forgive us all</td>\n",
       "      <td>1</td>\n",
       "    </tr>\n",
       "    <tr>\n",
       "      <th>1</th>\n",
       "      <td>4</td>\n",
       "      <td>NaN</td>\n",
       "      <td>NaN</td>\n",
       "      <td>Forest fire near La Ronge Sask. Canada</td>\n",
       "      <td>1</td>\n",
       "    </tr>\n",
       "    <tr>\n",
       "      <th>2</th>\n",
       "      <td>5</td>\n",
       "      <td>NaN</td>\n",
       "      <td>NaN</td>\n",
       "      <td>All residents asked to 'shelter in place' are being notified by officers. No other evacuation or shelter in place orders are expected</td>\n",
       "      <td>1</td>\n",
       "    </tr>\n",
       "    <tr>\n",
       "      <th>3</th>\n",
       "      <td>6</td>\n",
       "      <td>NaN</td>\n",
       "      <td>NaN</td>\n",
       "      <td>13,000 people receive #wildfires evacuation orders in California</td>\n",
       "      <td>1</td>\n",
       "    </tr>\n",
       "    <tr>\n",
       "      <th>4</th>\n",
       "      <td>7</td>\n",
       "      <td>NaN</td>\n",
       "      <td>NaN</td>\n",
       "      <td>Just got sent this photo from Ruby #Alaska as smoke from #wildfires pours into a school</td>\n",
       "      <td>1</td>\n",
       "    </tr>\n",
       "    <tr>\n",
       "      <th>...</th>\n",
       "      <td>...</td>\n",
       "      <td>...</td>\n",
       "      <td>...</td>\n",
       "      <td>...</td>\n",
       "      <td>...</td>\n",
       "    </tr>\n",
       "    <tr>\n",
       "      <th>7608</th>\n",
       "      <td>10869</td>\n",
       "      <td>NaN</td>\n",
       "      <td>NaN</td>\n",
       "      <td>Two giant cranes holding a bridge collapse into nearby homes http://t.co/STfMbbZFB5</td>\n",
       "      <td>1</td>\n",
       "    </tr>\n",
       "    <tr>\n",
       "      <th>7609</th>\n",
       "      <td>10870</td>\n",
       "      <td>NaN</td>\n",
       "      <td>NaN</td>\n",
       "      <td>@aria_ahrary @TheTawniest The out of control wild fires in California even in the Northern part of the state. Very troubling.</td>\n",
       "      <td>1</td>\n",
       "    </tr>\n",
       "    <tr>\n",
       "      <th>7610</th>\n",
       "      <td>10871</td>\n",
       "      <td>NaN</td>\n",
       "      <td>NaN</td>\n",
       "      <td>M1.94 [01:04 UTC]?5km S of Volcano Hawaii. http://t.co/zDtoyd8EbJ</td>\n",
       "      <td>1</td>\n",
       "    </tr>\n",
       "    <tr>\n",
       "      <th>7611</th>\n",
       "      <td>10872</td>\n",
       "      <td>NaN</td>\n",
       "      <td>NaN</td>\n",
       "      <td>Police investigating after an e-bike collided with a car in Little Portugal. E-bike rider suffered serious non-life threatening injuries.</td>\n",
       "      <td>1</td>\n",
       "    </tr>\n",
       "    <tr>\n",
       "      <th>7612</th>\n",
       "      <td>10873</td>\n",
       "      <td>NaN</td>\n",
       "      <td>NaN</td>\n",
       "      <td>The Latest: More Homes Razed by Northern California Wildfire - ABC News http://t.co/YmY4rSkQ3d</td>\n",
       "      <td>1</td>\n",
       "    </tr>\n",
       "  </tbody>\n",
       "</table>\n",
       "<p>7613 rows × 5 columns</p>\n",
       "</div>"
      ],
      "text/plain": [
       "         id keyword location  \\\n",
       "0         1     NaN      NaN   \n",
       "1         4     NaN      NaN   \n",
       "2         5     NaN      NaN   \n",
       "3         6     NaN      NaN   \n",
       "4         7     NaN      NaN   \n",
       "...     ...     ...      ...   \n",
       "7608  10869     NaN      NaN   \n",
       "7609  10870     NaN      NaN   \n",
       "7610  10871     NaN      NaN   \n",
       "7611  10872     NaN      NaN   \n",
       "7612  10873     NaN      NaN   \n",
       "\n",
       "                                                                                                                                           text  \\\n",
       "0                                                                         Our Deeds are the Reason of this #earthquake May ALLAH Forgive us all   \n",
       "1                                                                                                        Forest fire near La Ronge Sask. Canada   \n",
       "2         All residents asked to 'shelter in place' are being notified by officers. No other evacuation or shelter in place orders are expected   \n",
       "3                                                                             13,000 people receive #wildfires evacuation orders in California    \n",
       "4                                                      Just got sent this photo from Ruby #Alaska as smoke from #wildfires pours into a school    \n",
       "...                                                                                                                                         ...   \n",
       "7608                                                        Two giant cranes holding a bridge collapse into nearby homes http://t.co/STfMbbZFB5   \n",
       "7609              @aria_ahrary @TheTawniest The out of control wild fires in California even in the Northern part of the state. Very troubling.   \n",
       "7610                                                                          M1.94 [01:04 UTC]?5km S of Volcano Hawaii. http://t.co/zDtoyd8EbJ   \n",
       "7611  Police investigating after an e-bike collided with a car in Little Portugal. E-bike rider suffered serious non-life threatening injuries.   \n",
       "7612                                             The Latest: More Homes Razed by Northern California Wildfire - ABC News http://t.co/YmY4rSkQ3d   \n",
       "\n",
       "      target  \n",
       "0          1  \n",
       "1          1  \n",
       "2          1  \n",
       "3          1  \n",
       "4          1  \n",
       "...      ...  \n",
       "7608       1  \n",
       "7609       1  \n",
       "7610       1  \n",
       "7611       1  \n",
       "7612       1  \n",
       "\n",
       "[7613 rows x 5 columns]"
      ]
     },
     "execution_count": 561,
     "metadata": {},
     "output_type": "execute_result"
    }
   ],
   "source": [
    "train_df"
   ]
  },
  {
   "cell_type": "code",
   "execution_count": 562,
   "id": "finished-vault",
   "metadata": {},
   "outputs": [
    {
     "data": {
      "text/plain": [
       "NaN                               0.332720\n",
       "USA                               0.013661\n",
       "New York                          0.009326\n",
       "United States                     0.006568\n",
       "London                            0.005911\n",
       "                                    ...   \n",
       "Mississauga, Ontario              0.000131\n",
       "3?3?7?SLOPelousas??2?2?5?         0.000131\n",
       "Massachusetts                     0.000131\n",
       "Online 24/7. Not even kidding.    0.000131\n",
       "North Ferriby, East Yorkshire     0.000131\n",
       "Name: location, Length: 3342, dtype: float64"
      ]
     },
     "execution_count": 562,
     "metadata": {},
     "output_type": "execute_result"
    }
   ],
   "source": [
    "train_df.location.value_counts(dropna=False,normalize=True)"
   ]
  },
  {
   "cell_type": "code",
   "execution_count": 563,
   "id": "armed-administration",
   "metadata": {},
   "outputs": [
    {
     "data": {
      "text/plain": [
       "NaN                      0.008013\n",
       "fatalities               0.005911\n",
       "armageddon               0.005517\n",
       "deluge                   0.005517\n",
       "sinking                  0.005386\n",
       "                           ...   \n",
       "forest%20fire            0.002496\n",
       "epicentre                0.001576\n",
       "threat                   0.001445\n",
       "inundation               0.001314\n",
       "radiation%20emergency    0.001182\n",
       "Name: keyword, Length: 222, dtype: float64"
      ]
     },
     "execution_count": 563,
     "metadata": {},
     "output_type": "execute_result"
    }
   ],
   "source": [
    "train_df.keyword.value_counts(dropna=False,normalize=True)"
   ]
  },
  {
   "cell_type": "code",
   "execution_count": 564,
   "id": "warming-strengthening",
   "metadata": {},
   "outputs": [
    {
     "data": {
      "text/plain": [
       "0    0.57034\n",
       "1    0.42966\n",
       "Name: target, dtype: float64"
      ]
     },
     "execution_count": 564,
     "metadata": {},
     "output_type": "execute_result"
    }
   ],
   "source": [
    "train_df.target.value_counts(dropna=False,normalize=True)"
   ]
  },
  {
   "cell_type": "markdown",
   "id": "respiratory-tunnel",
   "metadata": {},
   "source": [
    "## Preprocessing"
   ]
  },
  {
   "cell_type": "code",
   "execution_count": 565,
   "id": "australian-professional",
   "metadata": {},
   "outputs": [],
   "source": [
    "from nltk.tokenize import word_tokenize\n",
    "from nltk.corpus import stopwords\n",
    "from nltk.tokenize import RegexpTokenizer, TweetTokenizer\n",
    "from nltk.stem.wordnet import WordNetLemmatizer \n",
    "import re\n",
    "lem = WordNetLemmatizer()\n",
    "tokenizer = TweetTokenizer()"
   ]
  },
  {
   "cell_type": "code",
   "execution_count": 604,
   "id": "attempted-berry",
   "metadata": {},
   "outputs": [],
   "source": [
    "def decontracted(phrase:str) -> str:\n",
    "    # specific\n",
    "    phrase = re.sub(r\"wont\", \"will not\", phrase)\n",
    "    phrase = re.sub(r\"cant\", \"can not\", phrase)\n",
    "    phrase = re.sub(r\"wasnt\", \"was not\", phrase)\n",
    "    phrase = re.sub(r\"werent\", \"were not\", phrase)\n",
    "    phrase = re.sub(r\"ppl\", \"people\", phrase)\n",
    "    phrase = re.sub(r\"wht\", \"what\", phrase)\n",
    "\n",
    "    # general\n",
    "    phrase = re.sub(r\"n\\'t\", \" not\", phrase)\n",
    "    phrase = re.sub(r\"\\'re\", \" are\", phrase)\n",
    "    phrase = re.sub(r\"\\'s\", \" is\", phrase)\n",
    "    phrase = re.sub(r\"\\'d\", \" would\", phrase)\n",
    "    phrase = re.sub(r\"\\'ll\", \" will\", phrase)\n",
    "    phrase = re.sub(r\"\\'t\", \" not\", phrase)\n",
    "    phrase = re.sub(r\"\\'ve\", \" have\", phrase)\n",
    "    phrase = re.sub(r\"\\'m\", \" am\", phrase)\n",
    "    return phrase\n",
    "\n",
    "def remove_accented_chars(text: str) -> str:\n",
    "    text = unicodedata.normalize('NFKD', text).encode('ascii', 'ignore').decode('utf-8', 'ignore')\n",
    "    return text\n",
    "\n",
    "def remove_noise(sentence:str) -> str:\n",
    "    sentence = re.sub(r\"@\", \" \", sentence)\n",
    "    sentence = re.sub(r\"https?:\\/\\/\\S+\", \" \", sentence)\n",
    "    sentence = re.sub(r\"[0-9]+\", \" \", sentence)\n",
    "    return sentence\n",
    "\n",
    "noise_words_list = [\"utc\",\"amp\"]\n",
    "    \n",
    "def preprocess_sentence(sentence: str) -> list:\n",
    "    sentence = sentence.lower()\n",
    "    sentence = re.sub(r\"#\", ' ', sentence)\n",
    "    sentence = remove_noise(sentence)\n",
    "    sentence = decontracted(sentence)\n",
    "    cleanr = re.compile('<.*?>')\n",
    "    cleantext = re.sub(cleanr, ' ', sentence)\n",
    "    regex = re.compile('([^\\s\\w]|_)+')\n",
    "    cleantext = regex.sub(' ', cleantext)\n",
    "    cleantext = remove_accented_chars(cleantext)\n",
    "    tokens = tokenizer.tokenize(cleantext)\n",
    "    tokens_normalized = [word for word in tokens if len(word)>2 and word not in stopwords.words('english')]\n",
    "    tokens_lemmatized = [lem.lemmatize(word) for word in tokens_normalized if word not in noise_words_list]\n",
    "    return tokens_lemmatized"
   ]
  },
  {
   "cell_type": "code",
   "execution_count": 605,
   "id": "distributed-guyana",
   "metadata": {},
   "outputs": [],
   "source": [
    "def preprocess_df(df: pd.DataFrame ) -> pd.DataFrame:\n",
    "    df.loc[df.keyword.isna(), \"keyword\"] = \"\"\n",
    "    df.loc[df.location.isna(), \"location\"] = \"\"\n",
    "    df[\"keyword\"] = df[\"keyword\"].astype(str)\n",
    "    df[\"location\"] = df[\"location\"].astype(str) \n",
    "    #df[\"text\"] = df[\"text\"] + \" \" + df[\"keyword\"].astype(\"str\")\n",
    "    df[\"tokens\"] = df[\"text\"].map(lambda x: preprocess_sentence(x))\n",
    "    df[\"features\"] = df.tokens.apply(lambda x: \" \".join(x))\n",
    "    return df"
   ]
  },
  {
   "cell_type": "code",
   "execution_count": 606,
   "id": "suited-skiing",
   "metadata": {},
   "outputs": [],
   "source": [
    "train_df = preprocess_df(train_df)"
   ]
  },
  {
   "cell_type": "code",
   "execution_count": 607,
   "id": "acquired-apple",
   "metadata": {},
   "outputs": [
    {
     "data": {
      "text/html": [
       "<div>\n",
       "<style scoped>\n",
       "    .dataframe tbody tr th:only-of-type {\n",
       "        vertical-align: middle;\n",
       "    }\n",
       "\n",
       "    .dataframe tbody tr th {\n",
       "        vertical-align: top;\n",
       "    }\n",
       "\n",
       "    .dataframe thead th {\n",
       "        text-align: right;\n",
       "    }\n",
       "</style>\n",
       "<table border=\"1\" class=\"dataframe\">\n",
       "  <thead>\n",
       "    <tr style=\"text-align: right;\">\n",
       "      <th></th>\n",
       "      <th>id</th>\n",
       "      <th>keyword</th>\n",
       "      <th>location</th>\n",
       "      <th>text</th>\n",
       "      <th>target</th>\n",
       "      <th>tokens</th>\n",
       "      <th>features</th>\n",
       "    </tr>\n",
       "  </thead>\n",
       "  <tbody>\n",
       "    <tr>\n",
       "      <th>0</th>\n",
       "      <td>1</td>\n",
       "      <td></td>\n",
       "      <td></td>\n",
       "      <td>Our Deeds are the Reason of this #earthquake May ALLAH Forgive us all</td>\n",
       "      <td>1</td>\n",
       "      <td>[deed, reason, earthquake, may, allah, forgive]</td>\n",
       "      <td>deed reason earthquake may allah forgive</td>\n",
       "    </tr>\n",
       "    <tr>\n",
       "      <th>1</th>\n",
       "      <td>4</td>\n",
       "      <td></td>\n",
       "      <td></td>\n",
       "      <td>Forest fire near La Ronge Sask. Canada</td>\n",
       "      <td>1</td>\n",
       "      <td>[forest, fire, near, ronge, sask, canada]</td>\n",
       "      <td>forest fire near ronge sask canada</td>\n",
       "    </tr>\n",
       "    <tr>\n",
       "      <th>2</th>\n",
       "      <td>5</td>\n",
       "      <td></td>\n",
       "      <td></td>\n",
       "      <td>All residents asked to 'shelter in place' are being notified by officers. No other evacuation or shelter in place orders are expected</td>\n",
       "      <td>1</td>\n",
       "      <td>[resident, asked, ishelter, place, notified, officer, evacuation, shelter, place, order, expected]</td>\n",
       "      <td>resident asked ishelter place notified officer evacuation shelter place order expected</td>\n",
       "    </tr>\n",
       "    <tr>\n",
       "      <th>3</th>\n",
       "      <td>6</td>\n",
       "      <td></td>\n",
       "      <td></td>\n",
       "      <td>13,000 people receive #wildfires evacuation orders in California</td>\n",
       "      <td>1</td>\n",
       "      <td>[people, receive, wildfire, evacuation, order, california]</td>\n",
       "      <td>people receive wildfire evacuation order california</td>\n",
       "    </tr>\n",
       "    <tr>\n",
       "      <th>4</th>\n",
       "      <td>7</td>\n",
       "      <td></td>\n",
       "      <td></td>\n",
       "      <td>Just got sent this photo from Ruby #Alaska as smoke from #wildfires pours into a school</td>\n",
       "      <td>1</td>\n",
       "      <td>[got, sent, photo, ruby, alaska, smoke, wildfire, pours, school]</td>\n",
       "      <td>got sent photo ruby alaska smoke wildfire pours school</td>\n",
       "    </tr>\n",
       "    <tr>\n",
       "      <th>...</th>\n",
       "      <td>...</td>\n",
       "      <td>...</td>\n",
       "      <td>...</td>\n",
       "      <td>...</td>\n",
       "      <td>...</td>\n",
       "      <td>...</td>\n",
       "      <td>...</td>\n",
       "    </tr>\n",
       "    <tr>\n",
       "      <th>7608</th>\n",
       "      <td>10869</td>\n",
       "      <td></td>\n",
       "      <td></td>\n",
       "      <td>Two giant cranes holding a bridge collapse into nearby homes http://t.co/STfMbbZFB5</td>\n",
       "      <td>1</td>\n",
       "      <td>[two, giant, crane, holding, bridge, collapse, nearby, home]</td>\n",
       "      <td>two giant crane holding bridge collapse nearby home</td>\n",
       "    </tr>\n",
       "    <tr>\n",
       "      <th>7609</th>\n",
       "      <td>10870</td>\n",
       "      <td></td>\n",
       "      <td></td>\n",
       "      <td>@aria_ahrary @TheTawniest The out of control wild fires in California even in the Northern part of the state. Very troubling.</td>\n",
       "      <td>1</td>\n",
       "      <td>[aria, ahrary, thetawniest, control, wild, fire, california, even, northern, part, state, troubling]</td>\n",
       "      <td>aria ahrary thetawniest control wild fire california even northern part state troubling</td>\n",
       "    </tr>\n",
       "    <tr>\n",
       "      <th>7610</th>\n",
       "      <td>10871</td>\n",
       "      <td></td>\n",
       "      <td></td>\n",
       "      <td>M1.94 [01:04 UTC]?5km S of Volcano Hawaii. http://t.co/zDtoyd8EbJ</td>\n",
       "      <td>1</td>\n",
       "      <td>[volcano, hawaii]</td>\n",
       "      <td>volcano hawaii</td>\n",
       "    </tr>\n",
       "    <tr>\n",
       "      <th>7611</th>\n",
       "      <td>10872</td>\n",
       "      <td></td>\n",
       "      <td></td>\n",
       "      <td>Police investigating after an e-bike collided with a car in Little Portugal. E-bike rider suffered serious non-life threatening injuries.</td>\n",
       "      <td>1</td>\n",
       "      <td>[police, investigating, bike, collided, car, little, portugal, bike, rider, suffered, serious, non, life, threatening, injury]</td>\n",
       "      <td>police investigating bike collided car little portugal bike rider suffered serious non life threatening injury</td>\n",
       "    </tr>\n",
       "    <tr>\n",
       "      <th>7612</th>\n",
       "      <td>10873</td>\n",
       "      <td></td>\n",
       "      <td></td>\n",
       "      <td>The Latest: More Homes Razed by Northern California Wildfire - ABC News http://t.co/YmY4rSkQ3d</td>\n",
       "      <td>1</td>\n",
       "      <td>[latest, home, razed, northern, california, wildfire, abc, news]</td>\n",
       "      <td>latest home razed northern california wildfire abc news</td>\n",
       "    </tr>\n",
       "  </tbody>\n",
       "</table>\n",
       "<p>7613 rows × 7 columns</p>\n",
       "</div>"
      ],
      "text/plain": [
       "         id keyword location  \\\n",
       "0         1                    \n",
       "1         4                    \n",
       "2         5                    \n",
       "3         6                    \n",
       "4         7                    \n",
       "...     ...     ...      ...   \n",
       "7608  10869                    \n",
       "7609  10870                    \n",
       "7610  10871                    \n",
       "7611  10872                    \n",
       "7612  10873                    \n",
       "\n",
       "                                                                                                                                           text  \\\n",
       "0                                                                         Our Deeds are the Reason of this #earthquake May ALLAH Forgive us all   \n",
       "1                                                                                                        Forest fire near La Ronge Sask. Canada   \n",
       "2         All residents asked to 'shelter in place' are being notified by officers. No other evacuation or shelter in place orders are expected   \n",
       "3                                                                             13,000 people receive #wildfires evacuation orders in California    \n",
       "4                                                      Just got sent this photo from Ruby #Alaska as smoke from #wildfires pours into a school    \n",
       "...                                                                                                                                         ...   \n",
       "7608                                                        Two giant cranes holding a bridge collapse into nearby homes http://t.co/STfMbbZFB5   \n",
       "7609              @aria_ahrary @TheTawniest The out of control wild fires in California even in the Northern part of the state. Very troubling.   \n",
       "7610                                                                          M1.94 [01:04 UTC]?5km S of Volcano Hawaii. http://t.co/zDtoyd8EbJ   \n",
       "7611  Police investigating after an e-bike collided with a car in Little Portugal. E-bike rider suffered serious non-life threatening injuries.   \n",
       "7612                                             The Latest: More Homes Razed by Northern California Wildfire - ABC News http://t.co/YmY4rSkQ3d   \n",
       "\n",
       "      target  \\\n",
       "0          1   \n",
       "1          1   \n",
       "2          1   \n",
       "3          1   \n",
       "4          1   \n",
       "...      ...   \n",
       "7608       1   \n",
       "7609       1   \n",
       "7610       1   \n",
       "7611       1   \n",
       "7612       1   \n",
       "\n",
       "                                                                                                                              tokens  \\\n",
       "0                                                                                    [deed, reason, earthquake, may, allah, forgive]   \n",
       "1                                                                                          [forest, fire, near, ronge, sask, canada]   \n",
       "2                                 [resident, asked, ishelter, place, notified, officer, evacuation, shelter, place, order, expected]   \n",
       "3                                                                         [people, receive, wildfire, evacuation, order, california]   \n",
       "4                                                                   [got, sent, photo, ruby, alaska, smoke, wildfire, pours, school]   \n",
       "...                                                                                                                              ...   \n",
       "7608                                                                    [two, giant, crane, holding, bridge, collapse, nearby, home]   \n",
       "7609                            [aria, ahrary, thetawniest, control, wild, fire, california, even, northern, part, state, troubling]   \n",
       "7610                                                                                                               [volcano, hawaii]   \n",
       "7611  [police, investigating, bike, collided, car, little, portugal, bike, rider, suffered, serious, non, life, threatening, injury]   \n",
       "7612                                                                [latest, home, razed, northern, california, wildfire, abc, news]   \n",
       "\n",
       "                                                                                                            features  \n",
       "0                                                                           deed reason earthquake may allah forgive  \n",
       "1                                                                                 forest fire near ronge sask canada  \n",
       "2                             resident asked ishelter place notified officer evacuation shelter place order expected  \n",
       "3                                                                people receive wildfire evacuation order california  \n",
       "4                                                             got sent photo ruby alaska smoke wildfire pours school  \n",
       "...                                                                                                              ...  \n",
       "7608                                                             two giant crane holding bridge collapse nearby home  \n",
       "7609                         aria ahrary thetawniest control wild fire california even northern part state troubling  \n",
       "7610                                                                                                  volcano hawaii  \n",
       "7611  police investigating bike collided car little portugal bike rider suffered serious non life threatening injury  \n",
       "7612                                                         latest home razed northern california wildfire abc news  \n",
       "\n",
       "[7613 rows x 7 columns]"
      ]
     },
     "execution_count": 607,
     "metadata": {},
     "output_type": "execute_result"
    }
   ],
   "source": [
    "train_df"
   ]
  },
  {
   "cell_type": "code",
   "execution_count": 608,
   "id": "consolidated-ecuador",
   "metadata": {},
   "outputs": [],
   "source": [
    "terms_frequency = pd.DataFrame({\"word\": [item for sublist in np.array(train_df.tokens).tolist() for item in sublist ]})"
   ]
  },
  {
   "cell_type": "code",
   "execution_count": 609,
   "id": "female-kinase",
   "metadata": {},
   "outputs": [
    {
     "data": {
      "text/html": [
       "<div>\n",
       "<style scoped>\n",
       "    .dataframe tbody tr th:only-of-type {\n",
       "        vertical-align: middle;\n",
       "    }\n",
       "\n",
       "    .dataframe tbody tr th {\n",
       "        vertical-align: top;\n",
       "    }\n",
       "\n",
       "    .dataframe thead th {\n",
       "        text-align: right;\n",
       "    }\n",
       "</style>\n",
       "<table border=\"1\" class=\"dataframe\">\n",
       "  <thead>\n",
       "    <tr style=\"text-align: right;\">\n",
       "      <th></th>\n",
       "      <th>id</th>\n",
       "      <th>keyword</th>\n",
       "      <th>location</th>\n",
       "      <th>text</th>\n",
       "      <th>target</th>\n",
       "      <th>tokens</th>\n",
       "      <th>features</th>\n",
       "    </tr>\n",
       "  </thead>\n",
       "  <tbody>\n",
       "    <tr>\n",
       "      <th>11</th>\n",
       "      <td>17</td>\n",
       "      <td></td>\n",
       "      <td></td>\n",
       "      <td>Haha South Tampa is getting flooded hah- WAIT A SECOND I LIVE IN SOUTH TAMPA WHAT AM I GONNA DO WHAT AM I GONNA DO FVCK #flooding</td>\n",
       "      <td>1</td>\n",
       "      <td>[haha, south, tampa, getting, flooded, hah, wait, second, live, south, tampa, gonna, gonna, fvck, flooding]</td>\n",
       "      <td>haha south tampa getting flooded hah wait second live south tampa gonna gonna fvck flooding</td>\n",
       "    </tr>\n",
       "    <tr>\n",
       "      <th>12</th>\n",
       "      <td>18</td>\n",
       "      <td></td>\n",
       "      <td></td>\n",
       "      <td>#raining #flooding #Florida #TampaBay #Tampa 18 or 19 days. I've lost count</td>\n",
       "      <td>1</td>\n",
       "      <td>[raining, flooding, florida, tampabay, tampa, day, lost, count]</td>\n",
       "      <td>raining flooding florida tampabay tampa day lost count</td>\n",
       "    </tr>\n",
       "    <tr>\n",
       "      <th>55</th>\n",
       "      <td>79</td>\n",
       "      <td>ablaze</td>\n",
       "      <td>USA</td>\n",
       "      <td>#Kurds trampling on Turkmen flag later set it ablaze while others vandalized offices of Turkmen Front in #Diyala http://t.co/4IzFdYC3cg</td>\n",
       "      <td>1</td>\n",
       "      <td>[kurd, trampling, turkmen, flag, later, set, ablaze, others, vandalized, office, turkmen, front, diyala]</td>\n",
       "      <td>kurd trampling turkmen flag later set ablaze others vandalized office turkmen front diyala</td>\n",
       "    </tr>\n",
       "    <tr>\n",
       "      <th>74</th>\n",
       "      <td>107</td>\n",
       "      <td>accident</td>\n",
       "      <td>North Carolina</td>\n",
       "      <td>I-77 Mile Marker 31 South Mooresville  Iredell Vehicle Accident Ramp Closed at 8/6 1:18 PM</td>\n",
       "      <td>1</td>\n",
       "      <td>[mile, marker, south, mooresville, iredell, vehicle, accident, ramp, closed]</td>\n",
       "      <td>mile marker south mooresville iredell vehicle accident ramp closed</td>\n",
       "    </tr>\n",
       "    <tr>\n",
       "      <th>144</th>\n",
       "      <td>208</td>\n",
       "      <td>airplane%20accident</td>\n",
       "      <td>Eagle Pass, Texas</td>\n",
       "      <td>A Cessna airplane accident in Ocampo Coahuila Mexico on July 29 2015 killed four men including a State of Coahuila government official.</td>\n",
       "      <td>1</td>\n",
       "      <td>[cessna, airplane, accident, ocampo, coahuila, mexico, july, killed, four, men, including, state, coahuila, government, official]</td>\n",
       "      <td>cessna airplane accident ocampo coahuila mexico july killed four men including state coahuila government official</td>\n",
       "    </tr>\n",
       "    <tr>\n",
       "      <th>...</th>\n",
       "      <td>...</td>\n",
       "      <td>...</td>\n",
       "      <td>...</td>\n",
       "      <td>...</td>\n",
       "      <td>...</td>\n",
       "      <td>...</td>\n",
       "      <td>...</td>\n",
       "    </tr>\n",
       "    <tr>\n",
       "      <th>7159</th>\n",
       "      <td>10258</td>\n",
       "      <td>war%20zone</td>\n",
       "      <td>Downtown Churubusco, Indiana</td>\n",
       "      <td>Camping in a war zone with roving raccoons toughens city slicker http://t.co/oJuS08yZrq</td>\n",
       "      <td>0</td>\n",
       "      <td>[camping, war, zone, roving, raccoon, toughens, city, slicker]</td>\n",
       "      <td>camping war zone roving raccoon toughens city slicker</td>\n",
       "    </tr>\n",
       "    <tr>\n",
       "      <th>7272</th>\n",
       "      <td>10411</td>\n",
       "      <td>whirlwind</td>\n",
       "      <td>140920-21 &amp; 150718-19 BEIJING</td>\n",
       "      <td>{INFO} Baekhyun and Suho will be attending the Idol Sports Championship on August 10th\\nCr: SYJEXO \\n http://t.co/oAZjPwUeYR</td>\n",
       "      <td>0</td>\n",
       "      <td>[info, baekhyun, suho, attending, idol, sport, championship, august, syjexo]</td>\n",
       "      <td>info baekhyun suho attending idol sport championship august syjexo</td>\n",
       "    </tr>\n",
       "    <tr>\n",
       "      <th>7311</th>\n",
       "      <td>10464</td>\n",
       "      <td>wild%20fires</td>\n",
       "      <td>Johannesburg, South Africa</td>\n",
       "      <td>They should just have load shedding permanently and we will all just live like we in the wild and have camp fires  cook with fire etc</td>\n",
       "      <td>0</td>\n",
       "      <td>[load, shedding, permanently, live, like, wild, camp, fire, cook, fire, etc]</td>\n",
       "      <td>load shedding permanently live like wild camp fire cook fire etc</td>\n",
       "    </tr>\n",
       "    <tr>\n",
       "      <th>7393</th>\n",
       "      <td>10580</td>\n",
       "      <td>windstorm</td>\n",
       "      <td>(a) property of the universe</td>\n",
       "      <td>the windstorm blew thru my open window and now my bong is in pieces just another example of nature's indifference to human suffering</td>\n",
       "      <td>0</td>\n",
       "      <td>[windstorm, blew, thru, open, window, bong, piece, another, example, nature, indifference, human, suffering]</td>\n",
       "      <td>windstorm blew thru open window bong piece another example nature indifference human suffering</td>\n",
       "    </tr>\n",
       "    <tr>\n",
       "      <th>7401</th>\n",
       "      <td>10589</td>\n",
       "      <td>wounded</td>\n",
       "      <td>Scottsdale, AZ</td>\n",
       "      <td>The whole food stamp gov. assistance program needs to be retooled for wounded veterans retirees and handicapped only.  #NoMoreHandouts</td>\n",
       "      <td>0</td>\n",
       "      <td>[whole, food, stamp, gov, assistance, program, need, retooled, wounded, veteran, retiree, handicapped, nomorehandouts]</td>\n",
       "      <td>whole food stamp gov assistance program need retooled wounded veteran retiree handicapped nomorehandouts</td>\n",
       "    </tr>\n",
       "  </tbody>\n",
       "</table>\n",
       "<p>125 rows × 7 columns</p>\n",
       "</div>"
      ],
      "text/plain": [
       "         id              keyword                       location  \\\n",
       "11       17                                                       \n",
       "12       18                                                       \n",
       "55       79               ablaze                            USA   \n",
       "74      107             accident                 North Carolina   \n",
       "144     208  airplane%20accident              Eagle Pass, Texas   \n",
       "...     ...                  ...                            ...   \n",
       "7159  10258           war%20zone   Downtown Churubusco, Indiana   \n",
       "7272  10411            whirlwind  140920-21 & 150718-19 BEIJING   \n",
       "7311  10464         wild%20fires     Johannesburg, South Africa   \n",
       "7393  10580            windstorm   (a) property of the universe   \n",
       "7401  10589              wounded                 Scottsdale, AZ   \n",
       "\n",
       "                                                                                                                                         text  \\\n",
       "11          Haha South Tampa is getting flooded hah- WAIT A SECOND I LIVE IN SOUTH TAMPA WHAT AM I GONNA DO WHAT AM I GONNA DO FVCK #flooding   \n",
       "12                                                               #raining #flooding #Florida #TampaBay #Tampa 18 or 19 days. I've lost count    \n",
       "55    #Kurds trampling on Turkmen flag later set it ablaze while others vandalized offices of Turkmen Front in #Diyala http://t.co/4IzFdYC3cg   \n",
       "74                                                 I-77 Mile Marker 31 South Mooresville  Iredell Vehicle Accident Ramp Closed at 8/6 1:18 PM   \n",
       "144   A Cessna airplane accident in Ocampo Coahuila Mexico on July 29 2015 killed four men including a State of Coahuila government official.   \n",
       "...                                                                                                                                       ...   \n",
       "7159                                                  Camping in a war zone with roving raccoons toughens city slicker http://t.co/oJuS08yZrq   \n",
       "7272             {INFO} Baekhyun and Suho will be attending the Idol Sports Championship on August 10th\\nCr: SYJEXO \\n http://t.co/oAZjPwUeYR   \n",
       "7311    They should just have load shedding permanently and we will all just live like we in the wild and have camp fires  cook with fire etc   \n",
       "7393     the windstorm blew thru my open window and now my bong is in pieces just another example of nature's indifference to human suffering   \n",
       "7401   The whole food stamp gov. assistance program needs to be retooled for wounded veterans retirees and handicapped only.  #NoMoreHandouts   \n",
       "\n",
       "      target  \\\n",
       "11         1   \n",
       "12         1   \n",
       "55         1   \n",
       "74         1   \n",
       "144        1   \n",
       "...      ...   \n",
       "7159       0   \n",
       "7272       0   \n",
       "7311       0   \n",
       "7393       0   \n",
       "7401       0   \n",
       "\n",
       "                                                                                                                                 tokens  \\\n",
       "11                          [haha, south, tampa, getting, flooded, hah, wait, second, live, south, tampa, gonna, gonna, fvck, flooding]   \n",
       "12                                                                      [raining, flooding, florida, tampabay, tampa, day, lost, count]   \n",
       "55                             [kurd, trampling, turkmen, flag, later, set, ablaze, others, vandalized, office, turkmen, front, diyala]   \n",
       "74                                                         [mile, marker, south, mooresville, iredell, vehicle, accident, ramp, closed]   \n",
       "144   [cessna, airplane, accident, ocampo, coahuila, mexico, july, killed, four, men, including, state, coahuila, government, official]   \n",
       "...                                                                                                                                 ...   \n",
       "7159                                                                     [camping, war, zone, roving, raccoon, toughens, city, slicker]   \n",
       "7272                                                       [info, baekhyun, suho, attending, idol, sport, championship, august, syjexo]   \n",
       "7311                                                       [load, shedding, permanently, live, like, wild, camp, fire, cook, fire, etc]   \n",
       "7393                       [windstorm, blew, thru, open, window, bong, piece, another, example, nature, indifference, human, suffering]   \n",
       "7401             [whole, food, stamp, gov, assistance, program, need, retooled, wounded, veteran, retiree, handicapped, nomorehandouts]   \n",
       "\n",
       "                                                                                                               features  \n",
       "11                          haha south tampa getting flooded hah wait second live south tampa gonna gonna fvck flooding  \n",
       "12                                                               raining flooding florida tampabay tampa day lost count  \n",
       "55                           kurd trampling turkmen flag later set ablaze others vandalized office turkmen front diyala  \n",
       "74                                                   mile marker south mooresville iredell vehicle accident ramp closed  \n",
       "144   cessna airplane accident ocampo coahuila mexico july killed four men including state coahuila government official  \n",
       "...                                                                                                                 ...  \n",
       "7159                                                              camping war zone roving raccoon toughens city slicker  \n",
       "7272                                                 info baekhyun suho attending idol sport championship august syjexo  \n",
       "7311                                                   load shedding permanently live like wild camp fire cook fire etc  \n",
       "7393                     windstorm blew thru open window bong piece another example nature indifference human suffering  \n",
       "7401           whole food stamp gov assistance program need retooled wounded veteran retiree handicapped nomorehandouts  \n",
       "\n",
       "[125 rows x 7 columns]"
      ]
     },
     "execution_count": 609,
     "metadata": {},
     "output_type": "execute_result"
    }
   ],
   "source": [
    "train_df[train_df.features.str.contains(\"amp\")]"
   ]
  },
  {
   "cell_type": "code",
   "execution_count": 610,
   "id": "central-examination",
   "metadata": {},
   "outputs": [
    {
     "data": {
      "text/plain": [
       "word      \n",
       "fire          356\n",
       "like          350\n",
       "get           255\n",
       "new           227\n",
       "via           220\n",
       "people        218\n",
       "news          211\n",
       "one           208\n",
       "would         191\n",
       "time          181\n",
       "year          178\n",
       "video         175\n",
       "disaster      162\n",
       "emergency     159\n",
       "body          155\n",
       "day           151\n",
       "home          144\n",
       "police        143\n",
       "building      141\n",
       "family        132\n",
       "life          132\n",
       "say           131\n",
       "still         129\n",
       "storm         128\n",
       "crash         125\n",
       "back          122\n",
       "california    121\n",
       "burning       121\n",
       "bomb          121\n",
       "know          120\n",
       "look          120\n",
       "world         117\n",
       "train         116\n",
       "flood         115\n",
       "man           115\n",
       "car           115\n",
       "suicide       114\n",
       "got           114\n",
       "death         114\n",
       "see           112\n",
       "attack        110\n",
       "first         109\n",
       "love          106\n",
       "two           104\n",
       "going         104\n",
       "nuclear       104\n",
       "today         102\n",
       "make          102\n",
       "let           102\n",
       "war           102\n",
       "dtype: int64"
      ]
     },
     "execution_count": 610,
     "metadata": {},
     "output_type": "execute_result"
    }
   ],
   "source": [
    "terms_frequency.value_counts().head(50)"
   ]
  },
  {
   "cell_type": "markdown",
   "id": "functioning-provider",
   "metadata": {},
   "source": [
    "# Text to features"
   ]
  },
  {
   "cell_type": "markdown",
   "id": "entertaining-basin",
   "metadata": {},
   "source": [
    "## Bag of Words"
   ]
  },
  {
   "cell_type": "code",
   "execution_count": 571,
   "id": "floating-brazil",
   "metadata": {},
   "outputs": [],
   "source": [
    "from sklearn import feature_extraction\n",
    "from sklearn.model_selection import train_test_split\n",
    "from sklearn.ensemble import RandomForestClassifier\n",
    "from sklearn.metrics import classification_report, confusion_matrix, accuracy_score"
   ]
  },
  {
   "cell_type": "code",
   "execution_count": 572,
   "id": "crucial-fault",
   "metadata": {},
   "outputs": [],
   "source": [
    "#vectorizer = feature_extraction.text.CountVectorizer(max_features=10000, ngram_range=(1,3))\n",
    "vectorizer = feature_extraction.text.TfidfVectorizer()"
   ]
  },
  {
   "cell_type": "code",
   "execution_count": 573,
   "id": "harmful-slovak",
   "metadata": {},
   "outputs": [],
   "source": [
    "corpus = train_df.features.to_list()\n",
    "vectorizer = vectorizer.fit(corpus)\n",
    "X = vectorizer.transform(train_df.features.to_list()) "
   ]
  },
  {
   "cell_type": "code",
   "execution_count": 574,
   "id": "subtle-shopper",
   "metadata": {},
   "outputs": [],
   "source": [
    "y = train_df[\"target\"].to_list()"
   ]
  },
  {
   "cell_type": "code",
   "execution_count": 575,
   "id": "cathedral-calvin",
   "metadata": {},
   "outputs": [],
   "source": [
    "train, test = train_test_split(train_df, test_size=0.2, random_state=0)"
   ]
  },
  {
   "cell_type": "code",
   "execution_count": 576,
   "id": "opposed-prayer",
   "metadata": {},
   "outputs": [],
   "source": [
    "y_train = train[\"target\"].to_list()\n",
    "y_test = test[\"target\"].to_list()"
   ]
  },
  {
   "cell_type": "code",
   "execution_count": 577,
   "id": "comfortable-belgium",
   "metadata": {},
   "outputs": [],
   "source": [
    "X_train = X[train.index]\n",
    "X_test = X[test.index]"
   ]
  },
  {
   "cell_type": "markdown",
   "id": "lightweight-virtue",
   "metadata": {},
   "source": [
    "### dimension reduction"
   ]
  },
  {
   "cell_type": "code",
   "execution_count": 578,
   "id": "abroad-warrant",
   "metadata": {},
   "outputs": [],
   "source": [
    "from sklearn import feature_selection, pipeline, naive_bayes"
   ]
  },
  {
   "cell_type": "code",
   "execution_count": 579,
   "id": "legendary-identity",
   "metadata": {},
   "outputs": [],
   "source": [
    "corpus = train.features.to_list()"
   ]
  },
  {
   "cell_type": "code",
   "execution_count": 580,
   "id": "weighted-science",
   "metadata": {},
   "outputs": [],
   "source": [
    "X_names = vectorizer.get_feature_names()\n",
    "reduce_dimension = False\n",
    "if reduce_dimension:\n",
    "    p_value_limit = 0.95\n",
    "    dtf_features = pd.DataFrame()\n",
    "    for cat in np.unique(y):\n",
    "        chi2, p = feature_selection.chi2(X_train, y_train==cat)\n",
    "        dtf_features = dtf_features.append(pd.DataFrame(\n",
    "                       {\"feature\":X_names, \"score\":1-p, \"y\":cat}))\n",
    "        dtf_features = dtf_features.sort_values([\"y\",\"score\"], \n",
    "                        ascending=[True,False])\n",
    "        dtf_features = dtf_features[dtf_features[\"score\"]>p_value_limit]\n",
    "    \n",
    "    X_names = dtf_features[\"feature\"].unique().tolist()\n",
    "    vectorizer = feature_extraction.text.TfidfVectorizer(vocabulary=X_names)\n",
    "    vectorizer.fit(corpus)"
   ]
  },
  {
   "cell_type": "code",
   "execution_count": 581,
   "id": "express-multimedia",
   "metadata": {
    "tags": []
   },
   "outputs": [],
   "source": [
    "X_train = vectorizer.transform(corpus)"
   ]
  },
  {
   "cell_type": "code",
   "execution_count": 582,
   "id": "excited-silver",
   "metadata": {
    "tags": []
   },
   "outputs": [],
   "source": [
    "classifier = RandomForestClassifier(n_estimators=2000, random_state=0)\n",
    "#classifier = naive_bayes.MultinomialNB()"
   ]
  },
  {
   "cell_type": "code",
   "execution_count": 583,
   "id": "coordinate-suggestion",
   "metadata": {},
   "outputs": [
    {
     "data": {
      "text/plain": [
       "RandomForestClassifier(n_estimators=2000, random_state=0)"
      ]
     },
     "execution_count": 583,
     "metadata": {},
     "output_type": "execute_result"
    }
   ],
   "source": [
    "model = pipeline.Pipeline([(\"vectorizer\", vectorizer),  \n",
    "                           (\"classifier\", classifier)])\n",
    "model[\"classifier\"].fit(X_train, y_train)"
   ]
  },
  {
   "cell_type": "code",
   "execution_count": 584,
   "id": "altered-adrian",
   "metadata": {},
   "outputs": [],
   "source": [
    "X_test = test[\"features\"].values\n",
    "predicted = model.predict(X_test)\n",
    "y_pred = model.predict(X_test)"
   ]
  },
  {
   "cell_type": "code",
   "execution_count": 585,
   "id": "international-insider",
   "metadata": {},
   "outputs": [
    {
     "name": "stdout",
     "output_type": "stream",
     "text": [
      "              precision    recall  f1-score   support\n",
      "\n",
      "           0       0.78      0.93      0.85       886\n",
      "           1       0.86      0.64      0.73       637\n",
      "\n",
      "    accuracy                           0.81      1523\n",
      "   macro avg       0.82      0.78      0.79      1523\n",
      "weighted avg       0.81      0.81      0.80      1523\n",
      "\n",
      "0.8056467498358503\n"
     ]
    }
   ],
   "source": [
    "print(classification_report(y_test,y_pred))\n",
    "print(accuracy_score(y_test, y_pred))"
   ]
  },
  {
   "cell_type": "code",
   "execution_count": 586,
   "id": "completed-optimization",
   "metadata": {},
   "outputs": [],
   "source": [
    "from sklearn.metrics import plot_confusion_matrix\n",
    "import matplotlib.pyplot as plt"
   ]
  },
  {
   "cell_type": "code",
   "execution_count": 587,
   "id": "figured-billion",
   "metadata": {},
   "outputs": [
    {
     "data": {
      "text/plain": [
       "<sklearn.metrics._plot.confusion_matrix.ConfusionMatrixDisplay at 0x14a49e0d0>"
      ]
     },
     "execution_count": 587,
     "metadata": {},
     "output_type": "execute_result"
    },
    {
     "data": {
      "image/png": "[encoded data removed]",
      "text/plain": [
       "<Figure size 432x288 with 2 Axes>"
      ]
     },
     "metadata": {
      "needs_background": "light"
     },
     "output_type": "display_data"
    }
   ],
   "source": [
    "plot_confusion_matrix(model, X_test, y_test,\n",
    "                                 display_labels=[\"0\", \"1\"],\n",
    "                                 cmap=plt.cm.Blues)"
   ]
  },
  {
   "cell_type": "code",
   "execution_count": 588,
   "id": "square-blend",
   "metadata": {},
   "outputs": [
    {
     "name": "stderr",
     "output_type": "stream",
     "text": [
      "/Users/diego.garcia/.local/share/virtualenvs/kaggle-nlp-disaster-tweets-oFUYpqth/lib/python3.9/site-packages/pandas/core/indexing.py:1597: SettingWithCopyWarning: \n",
      "A value is trying to be set on a copy of a slice from a DataFrame.\n",
      "Try using .loc[row_indexer,col_indexer] = value instead\n",
      "\n",
      "See the caveats in the documentation: https://pandas.pydata.org/pandas-docs/stable/user_guide/indexing.html#returning-a-view-versus-a-copy\n",
      "  self.obj[key] = value\n",
      "/Users/diego.garcia/.local/share/virtualenvs/kaggle-nlp-disaster-tweets-oFUYpqth/lib/python3.9/site-packages/pandas/core/indexing.py:1676: SettingWithCopyWarning: \n",
      "A value is trying to be set on a copy of a slice from a DataFrame.\n",
      "Try using .loc[row_indexer,col_indexer] = value instead\n",
      "\n",
      "See the caveats in the documentation: https://pandas.pydata.org/pandas-docs/stable/user_guide/indexing.html#returning-a-view-versus-a-copy\n",
      "  self._setitem_single_column(ilocs[0], value, pi)\n"
     ]
    }
   ],
   "source": [
    "test.loc[:,\"prediction\"] = y_pred"
   ]
  },
  {
   "cell_type": "code",
   "execution_count": 589,
   "id": "democratic-acceptance",
   "metadata": {},
   "outputs": [
    {
     "data": {
      "text/html": [
       "<div>\n",
       "<style scoped>\n",
       "    .dataframe tbody tr th:only-of-type {\n",
       "        vertical-align: middle;\n",
       "    }\n",
       "\n",
       "    .dataframe tbody tr th {\n",
       "        vertical-align: top;\n",
       "    }\n",
       "\n",
       "    .dataframe thead th {\n",
       "        text-align: right;\n",
       "    }\n",
       "</style>\n",
       "<table border=\"1\" class=\"dataframe\">\n",
       "  <thead>\n",
       "    <tr style=\"text-align: right;\">\n",
       "      <th></th>\n",
       "      <th>id</th>\n",
       "      <th>keyword</th>\n",
       "      <th>location</th>\n",
       "      <th>text</th>\n",
       "      <th>target</th>\n",
       "      <th>tokens</th>\n",
       "      <th>features</th>\n",
       "      <th>prediction</th>\n",
       "    </tr>\n",
       "  </thead>\n",
       "  <tbody>\n",
       "    <tr>\n",
       "      <th>5056</th>\n",
       "      <td>7205</td>\n",
       "      <td>natural%20disaster</td>\n",
       "      <td>USA</td>\n",
       "      <td>Coming later this year~ 'THE MAN THAT TATTOOED WOMEN.' A novel based on a real serial killer from #Arkansas &amp;amp; a natural disaster. #NOLA</td>\n",
       "      <td>1</td>\n",
       "      <td>[coming, later, year, nothe, man, tattooed, woman, novel, based, real, serial, killer, arkansas, amp, natural, disaster, nola]</td>\n",
       "      <td>coming later year nothe man tattooed woman novel based real serial killer arkansas amp natural disaster nola</td>\n",
       "      <td>0</td>\n",
       "    </tr>\n",
       "    <tr>\n",
       "      <th>1531</th>\n",
       "      <td>2213</td>\n",
       "      <td>chemical%20emergency</td>\n",
       "      <td>Ukraine and Ireland</td>\n",
       "      <td>Russian nuclear-biological-chemical (NBC) brigade 'emergency response' exercise in Southern MD http://t.co/Ul5XdblmBk http://t.co/VjHpVLnbaw</td>\n",
       "      <td>1</td>\n",
       "      <td>[russian, nuclear, biological, chemical, nbc, brigade, emergency, response, exercise, southern, xdblmbk]</td>\n",
       "      <td>russian nuclear biological chemical nbc brigade emergency response exercise southern xdblmbk</td>\n",
       "      <td>0</td>\n",
       "    </tr>\n",
       "    <tr>\n",
       "      <th>5629</th>\n",
       "      <td>8029</td>\n",
       "      <td>refugees</td>\n",
       "      <td></td>\n",
       "      <td>Short of throwing them overboard himself I don't think any other leader could do much worse by #refugees than @TonyAbbottMHR worst pm ever!</td>\n",
       "      <td>1</td>\n",
       "      <td>[short, throwing, overboard, think, leader, could, much, worse, refugee, tonyabbottmhr, worst, ever]</td>\n",
       "      <td>short throwing overboard think leader could much worse refugee tonyabbottmhr worst ever</td>\n",
       "      <td>0</td>\n",
       "    </tr>\n",
       "    <tr>\n",
       "      <th>4585</th>\n",
       "      <td>6519</td>\n",
       "      <td>injuries</td>\n",
       "      <td>Carterville</td>\n",
       "      <td>Carterville High School coaches prepare for game-day injuries http://t.co/kKiMMBUe04</td>\n",
       "      <td>1</td>\n",
       "      <td>[carterville, high, school, coach, prepare, game, day, injury]</td>\n",
       "      <td>carterville high school coach prepare game day injury</td>\n",
       "      <td>0</td>\n",
       "    </tr>\n",
       "    <tr>\n",
       "      <th>5789</th>\n",
       "      <td>8259</td>\n",
       "      <td>rioting</td>\n",
       "      <td>trapped in America</td>\n",
       "      <td>@evacide The Ferguson RIOTS worked. This of this the next time you say RIOTING doesn't change anything.\\n\\nThere fixed it for you.</td>\n",
       "      <td>1</td>\n",
       "      <td>[evacide, ferguson, riot, worked, next, time, say, rioting, change, anything, fixed]</td>\n",
       "      <td>evacide ferguson riot worked next time say rioting change anything fixed</td>\n",
       "      <td>0</td>\n",
       "    </tr>\n",
       "    <tr>\n",
       "      <th>...</th>\n",
       "      <td>...</td>\n",
       "      <td>...</td>\n",
       "      <td>...</td>\n",
       "      <td>...</td>\n",
       "      <td>...</td>\n",
       "      <td>...</td>\n",
       "      <td>...</td>\n",
       "      <td>...</td>\n",
       "    </tr>\n",
       "    <tr>\n",
       "      <th>3212</th>\n",
       "      <td>4608</td>\n",
       "      <td>emergency%20services</td>\n",
       "      <td></td>\n",
       "      <td>We're #hiring! Click to apply: RN II/EMERGENCY SERVICES/FT/7P-7A - http://t.co/NV3Uxv9IMX #Nursing #Houston TX http://t.co/ej30IhrEA9</td>\n",
       "      <td>1</td>\n",
       "      <td>[hiring, click, apeopley, emergency, service, uxv, imx, nursing, houston, ihrea]</td>\n",
       "      <td>hiring click apeopley emergency service uxv imx nursing houston ihrea</td>\n",
       "      <td>0</td>\n",
       "    </tr>\n",
       "    <tr>\n",
       "      <th>3894</th>\n",
       "      <td>5538</td>\n",
       "      <td>flattened</td>\n",
       "      <td>Chorley, Lancashire, UK</td>\n",
       "      <td>Fylde Building set to be flattened: One of PrestonÛªs city centre iconic buildings is disappearing from the skyline. http://t.co/PdKHBdG9hO</td>\n",
       "      <td>0</td>\n",
       "      <td>[fylde, building, set, flattened, one, preston, uas, city, centre, iconic, building, disappearing, skyline]</td>\n",
       "      <td>fylde building set flattened one preston uas city centre iconic building disappearing skyline</td>\n",
       "      <td>1</td>\n",
       "    </tr>\n",
       "    <tr>\n",
       "      <th>7175</th>\n",
       "      <td>10283</td>\n",
       "      <td>war%20zone</td>\n",
       "      <td>ca(NADA)</td>\n",
       "      <td>THIS IS A ONE DIRECTION CONCERT NOT A WAR ZONE WHAT IS THIS #OTRAMETLIFE http://t.co/PtY9HRCUZH</td>\n",
       "      <td>1</td>\n",
       "      <td>[one, direction, concert, war, zone, otrametlife, hrcuzh]</td>\n",
       "      <td>one direction concert war zone otrametlife hrcuzh</td>\n",
       "      <td>0</td>\n",
       "    </tr>\n",
       "    <tr>\n",
       "      <th>3728</th>\n",
       "      <td>5299</td>\n",
       "      <td>fear</td>\n",
       "      <td></td>\n",
       "      <td>Nothing to fear. It's all about taking risks.</td>\n",
       "      <td>1</td>\n",
       "      <td>[nothing, fear, taking, risk]</td>\n",
       "      <td>nothing fear taking risk</td>\n",
       "      <td>0</td>\n",
       "    </tr>\n",
       "    <tr>\n",
       "      <th>2839</th>\n",
       "      <td>4084</td>\n",
       "      <td>displaced</td>\n",
       "      <td>Manila</td>\n",
       "      <td>Philippines Must Protect Internally Displaced Persons Warns UN Expert - The Diplomat http://t.co/V0yRfH9DKc</td>\n",
       "      <td>1</td>\n",
       "      <td>[philippine, must, protect, internally, displaced, person, warns, expert, diplomat, yrfh, dkc]</td>\n",
       "      <td>philippine must protect internally displaced person warns expert diplomat yrfh dkc</td>\n",
       "      <td>0</td>\n",
       "    </tr>\n",
       "  </tbody>\n",
       "</table>\n",
       "<p>296 rows × 8 columns</p>\n",
       "</div>"
      ],
      "text/plain": [
       "         id               keyword                 location  \\\n",
       "5056   7205    natural%20disaster                      USA   \n",
       "1531   2213  chemical%20emergency      Ukraine and Ireland   \n",
       "5629   8029              refugees                            \n",
       "4585   6519              injuries              Carterville   \n",
       "5789   8259               rioting       trapped in America   \n",
       "...     ...                   ...                      ...   \n",
       "3212   4608  emergency%20services                            \n",
       "3894   5538             flattened  Chorley, Lancashire, UK   \n",
       "7175  10283            war%20zone                ca(NADA)    \n",
       "3728   5299                  fear                            \n",
       "2839   4084             displaced                   Manila   \n",
       "\n",
       "                                                                                                                                              text  \\\n",
       "5056   Coming later this year~ 'THE MAN THAT TATTOOED WOMEN.' A novel based on a real serial killer from #Arkansas &amp; a natural disaster. #NOLA   \n",
       "1531  Russian nuclear-biological-chemical (NBC) brigade 'emergency response' exercise in Southern MD http://t.co/Ul5XdblmBk http://t.co/VjHpVLnbaw   \n",
       "5629   Short of throwing them overboard himself I don't think any other leader could do much worse by #refugees than @TonyAbbottMHR worst pm ever!   \n",
       "4585                                                          Carterville High School coaches prepare for game-day injuries http://t.co/kKiMMBUe04   \n",
       "5789            @evacide The Ferguson RIOTS worked. This of this the next time you say RIOTING doesn't change anything.\\n\\nThere fixed it for you.   \n",
       "...                                                                                                                                            ...   \n",
       "3212         We're #hiring! Click to apply: RN II/EMERGENCY SERVICES/FT/7P-7A - http://t.co/NV3Uxv9IMX #Nursing #Houston TX http://t.co/ej30IhrEA9   \n",
       "3894  Fylde Building set to be flattened: One of PrestonÛªs city centre iconic buildings is disappearing from the skyline. http://t.co/PdKHBdG9hO   \n",
       "7175                                               THIS IS A ONE DIRECTION CONCERT NOT A WAR ZONE WHAT IS THIS #OTRAMETLIFE http://t.co/PtY9HRCUZH   \n",
       "3728                                                                                                 Nothing to fear. It's all about taking risks.   \n",
       "2839                                   Philippines Must Protect Internally Displaced Persons Warns UN Expert - The Diplomat http://t.co/V0yRfH9DKc   \n",
       "\n",
       "      target  \\\n",
       "5056       1   \n",
       "1531       1   \n",
       "5629       1   \n",
       "4585       1   \n",
       "5789       1   \n",
       "...      ...   \n",
       "3212       1   \n",
       "3894       0   \n",
       "7175       1   \n",
       "3728       1   \n",
       "2839       1   \n",
       "\n",
       "                                                                                                                              tokens  \\\n",
       "5056  [coming, later, year, nothe, man, tattooed, woman, novel, based, real, serial, killer, arkansas, amp, natural, disaster, nola]   \n",
       "1531                        [russian, nuclear, biological, chemical, nbc, brigade, emergency, response, exercise, southern, xdblmbk]   \n",
       "5629                            [short, throwing, overboard, think, leader, could, much, worse, refugee, tonyabbottmhr, worst, ever]   \n",
       "4585                                                                  [carterville, high, school, coach, prepare, game, day, injury]   \n",
       "5789                                            [evacide, ferguson, riot, worked, next, time, say, rioting, change, anything, fixed]   \n",
       "...                                                                                                                              ...   \n",
       "3212                                                [hiring, click, apeopley, emergency, service, uxv, imx, nursing, houston, ihrea]   \n",
       "3894                     [fylde, building, set, flattened, one, preston, uas, city, centre, iconic, building, disappearing, skyline]   \n",
       "7175                                                                       [one, direction, concert, war, zone, otrametlife, hrcuzh]   \n",
       "3728                                                                                                   [nothing, fear, taking, risk]   \n",
       "2839                                  [philippine, must, protect, internally, displaced, person, warns, expert, diplomat, yrfh, dkc]   \n",
       "\n",
       "                                                                                                          features  \\\n",
       "5056  coming later year nothe man tattooed woman novel based real serial killer arkansas amp natural disaster nola   \n",
       "1531                  russian nuclear biological chemical nbc brigade emergency response exercise southern xdblmbk   \n",
       "5629                       short throwing overboard think leader could much worse refugee tonyabbottmhr worst ever   \n",
       "4585                                                         carterville high school coach prepare game day injury   \n",
       "5789                                      evacide ferguson riot worked next time say rioting change anything fixed   \n",
       "...                                                                                                            ...   \n",
       "3212                                         hiring click apeopley emergency service uxv imx nursing houston ihrea   \n",
       "3894                 fylde building set flattened one preston uas city centre iconic building disappearing skyline   \n",
       "7175                                                             one direction concert war zone otrametlife hrcuzh   \n",
       "3728                                                                                      nothing fear taking risk   \n",
       "2839                            philippine must protect internally displaced person warns expert diplomat yrfh dkc   \n",
       "\n",
       "      prediction  \n",
       "5056           0  \n",
       "1531           0  \n",
       "5629           0  \n",
       "4585           0  \n",
       "5789           0  \n",
       "...          ...  \n",
       "3212           0  \n",
       "3894           1  \n",
       "7175           0  \n",
       "3728           0  \n",
       "2839           0  \n",
       "\n",
       "[296 rows x 8 columns]"
      ]
     },
     "execution_count": 589,
     "metadata": {},
     "output_type": "execute_result"
    }
   ],
   "source": [
    "test[test[\"target\"] != test[\"prediction\"]]"
   ]
  },
  {
   "cell_type": "markdown",
   "id": "unexpected-dispute",
   "metadata": {},
   "source": [
    "# Prediction"
   ]
  },
  {
   "cell_type": "code",
   "execution_count": 312,
   "id": "different-realtor",
   "metadata": {},
   "outputs": [],
   "source": [
    "test_df = preprocess_df(test_df)"
   ]
  },
  {
   "cell_type": "code",
   "execution_count": 313,
   "id": "charming-canada",
   "metadata": {},
   "outputs": [],
   "source": [
    "X_test = vectorizer_fit.transform(test_df.features.to_list()) \n",
    "y_test = classifier.predict(X_test)\n",
    "#test_df['target'] = "
   ]
  },
  {
   "cell_type": "code",
   "execution_count": 28,
   "id": "structured-cancer",
   "metadata": {},
   "outputs": [
    {
     "data": {
      "text/plain": [
       "array([1, 1, 1, ..., 1, 1, 0])"
      ]
     },
     "execution_count": 28,
     "metadata": {},
     "output_type": "execute_result"
    }
   ],
   "source": [
    "y_test"
   ]
  },
  {
   "cell_type": "code",
   "execution_count": 314,
   "id": "pointed-british",
   "metadata": {},
   "outputs": [],
   "source": [
    "test_df[\"target\"] = y_test"
   ]
  },
  {
   "cell_type": "markdown",
   "id": "horizontal-honolulu",
   "metadata": {},
   "source": [
    "# Submission"
   ]
  },
  {
   "cell_type": "code",
   "execution_count": 315,
   "id": "fitting-cocktail",
   "metadata": {},
   "outputs": [
    {
     "data": {
      "text/html": [
       "<div>\n",
       "<style scoped>\n",
       "    .dataframe tbody tr th:only-of-type {\n",
       "        vertical-align: middle;\n",
       "    }\n",
       "\n",
       "    .dataframe tbody tr th {\n",
       "        vertical-align: top;\n",
       "    }\n",
       "\n",
       "    .dataframe thead th {\n",
       "        text-align: right;\n",
       "    }\n",
       "</style>\n",
       "<table border=\"1\" class=\"dataframe\">\n",
       "  <thead>\n",
       "    <tr style=\"text-align: right;\">\n",
       "      <th></th>\n",
       "      <th>id</th>\n",
       "      <th>target</th>\n",
       "    </tr>\n",
       "  </thead>\n",
       "  <tbody>\n",
       "    <tr>\n",
       "      <th>0</th>\n",
       "      <td>0</td>\n",
       "      <td>0</td>\n",
       "    </tr>\n",
       "    <tr>\n",
       "      <th>1</th>\n",
       "      <td>2</td>\n",
       "      <td>0</td>\n",
       "    </tr>\n",
       "    <tr>\n",
       "      <th>2</th>\n",
       "      <td>3</td>\n",
       "      <td>0</td>\n",
       "    </tr>\n",
       "    <tr>\n",
       "      <th>3</th>\n",
       "      <td>9</td>\n",
       "      <td>0</td>\n",
       "    </tr>\n",
       "    <tr>\n",
       "      <th>4</th>\n",
       "      <td>11</td>\n",
       "      <td>0</td>\n",
       "    </tr>\n",
       "    <tr>\n",
       "      <th>...</th>\n",
       "      <td>...</td>\n",
       "      <td>...</td>\n",
       "    </tr>\n",
       "    <tr>\n",
       "      <th>3258</th>\n",
       "      <td>10861</td>\n",
       "      <td>0</td>\n",
       "    </tr>\n",
       "    <tr>\n",
       "      <th>3259</th>\n",
       "      <td>10865</td>\n",
       "      <td>0</td>\n",
       "    </tr>\n",
       "    <tr>\n",
       "      <th>3260</th>\n",
       "      <td>10868</td>\n",
       "      <td>0</td>\n",
       "    </tr>\n",
       "    <tr>\n",
       "      <th>3261</th>\n",
       "      <td>10874</td>\n",
       "      <td>0</td>\n",
       "    </tr>\n",
       "    <tr>\n",
       "      <th>3262</th>\n",
       "      <td>10875</td>\n",
       "      <td>0</td>\n",
       "    </tr>\n",
       "  </tbody>\n",
       "</table>\n",
       "<p>3263 rows × 2 columns</p>\n",
       "</div>"
      ],
      "text/plain": [
       "         id  target\n",
       "0         0       0\n",
       "1         2       0\n",
       "2         3       0\n",
       "3         9       0\n",
       "4        11       0\n",
       "...     ...     ...\n",
       "3258  10861       0\n",
       "3259  10865       0\n",
       "3260  10868       0\n",
       "3261  10874       0\n",
       "3262  10875       0\n",
       "\n",
       "[3263 rows x 2 columns]"
      ]
     },
     "execution_count": 315,
     "metadata": {},
     "output_type": "execute_result"
    }
   ],
   "source": [
    "sample_submission"
   ]
  },
  {
   "cell_type": "code",
   "execution_count": 316,
   "id": "developing-foundation",
   "metadata": {},
   "outputs": [],
   "source": [
    "submission = test_df[[\"id\",\"target\"]]"
   ]
  },
  {
   "cell_type": "code",
   "execution_count": 317,
   "id": "awful-discipline",
   "metadata": {},
   "outputs": [],
   "source": [
    "#submission.to_csv(\"submission.csv\",index=False)"
   ]
  },
  {
   "cell_type": "code",
   "execution_count": 319,
   "id": "fatty-inventory",
   "metadata": {},
   "outputs": [
    {
     "name": "stdout",
     "output_type": "stream",
     "text": [
      "100%|██████████████████████████████████████| 22.2k/22.2k [00:02<00:00, 9.17kB/s]\n",
      "Successfully submitted to Natural Language Processing with Disaster Tweets"
     ]
    }
   ],
   "source": [
    "#!kaggle competitions submit -f submission.csv -m \"BoW and TIDF improved token cleaner\" nlp-getting-started"
   ]
  },
  {
   "cell_type": "code",
   "execution_count": 320,
   "id": "owned-narrow",
   "metadata": {},
   "outputs": [
    {
     "name": "stdout",
     "output_type": "stream",
     "text": [
      "fileName        date                 description                          status    publicScore  privateScore  \n",
      "--------------  -------------------  -----------------------------------  --------  -----------  ------------  \n",
      "submission.csv  2021-03-05 14:45:06  BoW and TIDF improved token cleaner  complete  0.78761      None          \n",
      "submission.csv  2021-03-04 10:12:31  BoW and TIDF                         complete  0.78639      None          \n"
     ]
    }
   ],
   "source": [
    "#!kaggle competitions submissions nlp-getting-started"
   ]
  },
  {
   "cell_type": "code",
   "execution_count": 620,
   "id": "younger-liberal",
   "metadata": {},
   "outputs": [
    {
     "name": "stdout",
     "output_type": "stream",
     "text": [
      "/Users/diego.garcia/learning/kaggle/kaggle-nlp-disaster-tweets/notebooks\n"
     ]
    }
   ],
   "source": [
    "!pwd"
   ]
  },
  {
   "cell_type": "code",
   "execution_count": null,
   "id": "detailed-terminal",
   "metadata": {},
   "outputs": [],
   "source": []
  }
 ],
 "metadata": {
  "jupytext": {
   "text_representation": {
    "extension": ".py",
    "format_name": "percent",
    "format_version": "1.3",
    "jupytext_version": "1.10.2"
   }
  },
  "kernelspec": {
   "display_name": "Python 3",
   "language": "python",
   "name": "python3"
  },
  "language_info": {
   "codemirror_mode": {
    "name": "ipython",
    "version": 3
   },
   "file_extension": ".py",
   "mimetype": "text/x-python",
   "name": "python",
   "nbconvert_exporter": "python",
   "pygments_lexer": "ipython3",
   "version": "3.9.1"
  }
 },
 "nbformat": 4,
 "nbformat_minor": 5
}

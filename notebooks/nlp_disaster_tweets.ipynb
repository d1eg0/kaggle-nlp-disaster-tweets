{
 "cells": [
  {
   "cell_type": "code",
   "execution_count": null,
   "id": "simple-surgery",
   "metadata": {},
   "outputs": [],
   "source": [
    "import pandas as pd\n",
    "import numpy as np\n",
    "import gensim\n",
    "from gensim.models import word2vec"
   ]
  },
  {
   "cell_type": "code",
   "execution_count": null,
   "id": "judicial-hearts",
   "metadata": {},
   "outputs": [],
   "source": [
    "train_df = pd.read_csv(\"../data/train.csv\")\n",
    "test_df = pd.read_csv(\"../data/test.csv\")\n",
    "sample_submission = pd.read_csv(\"../data/sample_submission.csv\")"
   ]
  },
  {
   "cell_type": "code",
   "execution_count": null,
   "id": "alpine-serial",
   "metadata": {},
   "outputs": [],
   "source": [
    "train_df"
   ]
  },
  {
   "cell_type": "code",
   "execution_count": null,
   "id": "instructional-popularity",
   "metadata": {},
   "outputs": [],
   "source": [
    "train_df.location.value_counts(dropna=False,normalize=True)"
   ]
  },
  {
   "cell_type": "code",
   "execution_count": null,
   "id": "least-transcript",
   "metadata": {},
   "outputs": [],
   "source": [
    "train_df.keyword.value_counts(dropna=False,normalize=True)"
   ]
  },
  {
   "cell_type": "code",
   "execution_count": null,
   "id": "sonic-cream",
   "metadata": {},
   "outputs": [],
   "source": [
    "train_df.target.value_counts(dropna=False,normalize=True)"
   ]
  },
  {
   "cell_type": "code",
   "execution_count": null,
   "id": "statistical-mount",
   "metadata": {},
   "outputs": [],
   "source": [
    "import nltk  "
   ]
  },
  {
   "cell_type": "markdown",
   "id": "structured-nigeria",
   "metadata": {},
   "source": [
    "## remove stop words"
   ]
  },
  {
   "cell_type": "code",
   "execution_count": null,
   "id": "respiratory-swaziland",
   "metadata": {},
   "outputs": [],
   "source": [
    "from nltk.tokenize import word_tokenize\n",
    "from nltk.corpus import stopwords\n",
    "from nltk.tokenize import RegexpTokenizer\n",
    "from nltk.stem.wordnet import WordNetLemmatizer \n",
    "import re\n",
    "lem = WordNetLemmatizer()\n"
   ]
  },
  {
   "cell_type": "code",
   "execution_count": null,
   "id": "received-hypothetical",
   "metadata": {},
   "outputs": [],
   "source": [
    "def preprocess_sentence(sentence):\n",
    "    cleanr = re.compile('<.*?>')\n",
    "    cleantext = re.sub(cleanr, '', sentence)\n",
    "    regex = re.compile('([^\\s\\w]|_)+')\n",
    "    cleantext = regex.sub('', cleantext).lower()\n",
    "    tokens = word_tokenize(cleantext)\n",
    "    tokens_normalized = [word.lower() for word in tokens if len(word)>2 and word.lower() not in stopwords.words('english')]\n",
    "    tokens_lemmatized = [lem.lemmatize(word) for word in tokens_normalized]\n",
    "    return tokens_lemmatized"
   ]
  },
  {
   "cell_type": "code",
   "execution_count": null,
   "id": "formed-sound",
   "metadata": {},
   "outputs": [],
   "source": [
    "train_df[\"tokens\"] = train_df[\"text\"].map(lambda x: preprocess_sentence(x))"
   ]
  },
  {
   "cell_type": "code",
   "execution_count": null,
   "id": "contained-dream",
   "metadata": {},
   "outputs": [],
   "source": [
    "cv"
   ]
  },
  {
   "cell_type": "code",
   "execution_count": null,
   "id": "latter-nation",
   "metadata": {},
   "outputs": [],
   "source": [
    "terms_frequency = pd.DataFrame({\"word\": [item for sublist in np.array(train_df.tokens).tolist() for item in sublist ]})"
   ]
  },
  {
   "cell_type": "code",
   "execution_count": null,
   "id": "streaming-quarter",
   "metadata": {},
   "outputs": [],
   "source": [
    "corpus = terms_frequency.drop_duplicates().word.tolist()"
   ]
  },
  {
   "cell_type": "code",
   "execution_count": null,
   "id": "secondary-stand",
   "metadata": {},
   "outputs": [],
   "source": [
    "model = word2vec.Word2Vec(train_df.tokens, size=100, window=20, min_count=2, workers=4)"
   ]
  },
  {
   "cell_type": "code",
   "execution_count": null,
   "id": "appreciated-minority",
   "metadata": {},
   "outputs": [],
   "source": [
    "from sklearn import feature_extraction"
   ]
  },
  {
   "cell_type": "code",
   "execution_count": null,
   "id": "collected-liabilities",
   "metadata": {},
   "outputs": [],
   "source": [
    "vectorizer = feature_extraction.text.CountVectorizer(max_features=10000, ngram_range=(1,2))"
   ]
  },
  {
   "cell_type": "code",
   "execution_count": null,
   "id": "expressed-proof",
   "metadata": {},
   "outputs": [],
   "source": []
  }
 ],
 "metadata": {
  "jupytext": {
   "text_representation": {
    "extension": ".py",
    "format_name": "percent",
    "format_version": "1.3",
    "jupytext_version": "1.10.2"
   }
  },
  "kernelspec": {
   "display_name": "Python 3",
   "language": "python",
   "name": "python3"
  },
  "language_info": {
   "codemirror_mode": {
    "name": "ipython",
    "version": 3
   },
   "file_extension": ".py",
   "mimetype": "text/x-python",
   "name": "python",
   "nbconvert_exporter": "python",
   "pygments_lexer": "ipython3",
   "version": "3.9.1"
  }
 },
 "nbformat": 4,
 "nbformat_minor": 5
}
